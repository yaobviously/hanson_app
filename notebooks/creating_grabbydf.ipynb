{
 "cells": [
  {
   "cell_type": "code",
   "execution_count": 4,
   "id": "da2750aa",
   "metadata": {},
   "outputs": [],
   "source": [
    "import os\n",
    "import pandas as pd"
   ]
  },
  {
   "cell_type": "code",
   "execution_count": 29,
   "id": "4fc3bd89",
   "metadata": {},
   "outputs": [],
   "source": [
    "path = '../summary_logs'\n",
    "\n",
    "text = []\n",
    "for file in os.listdir(path):\n",
    "    with open(os.path.join(path, file), 'rb') as f:\n",
    "        try:\n",
    "            text_ = f.read().decode('utf-8')\n",
    "        except UnicodeDecodeError:\n",
    "            text_ = f.read().decode('iso-8859-1')\n",
    "        text.append(text_ + '\\n')"
   ]
  },
  {
   "cell_type": "code",
   "execution_count": 36,
   "id": "886a57f9",
   "metadata": {},
   "outputs": [],
   "source": [
    "split_text = [t.split('RESPONSE')[-1] for t in text]\n",
    "split_text = [t.replace(':\\r\\n\\r\\n', '') for t in split_text]"
   ]
  },
  {
   "cell_type": "code",
   "execution_count": 47,
   "id": "17481094",
   "metadata": {},
   "outputs": [],
   "source": [
    "titles = [f'Grabby Aliens Summary {i+1}' for i in range(len(split_text))]\n",
    "authors = ['Robin Hanson'] * len(titles)\n",
    "bodies = split_text\n",
    "urls = ['https://grabbyaliens.com/'] * len(titles)"
   ]
  },
  {
   "cell_type": "code",
   "execution_count": 48,
   "id": "a5ceea00",
   "metadata": {},
   "outputs": [],
   "source": [
    "grabby_df = pd.DataFrame({'title' : titles, 'author' : authors, 'body' : bodies, 'url' : urls})"
   ]
  },
  {
   "cell_type": "code",
   "execution_count": 49,
   "id": "2768fb61",
   "metadata": {},
   "outputs": [],
   "source": [
    "grabby_df.to_csv('grabby_df.csv', index=False)"
   ]
  }
 ],
 "metadata": {
  "kernelspec": {
   "display_name": "Python 3 (ipykernel)",
   "language": "python",
   "name": "python3"
  },
  "language_info": {
   "codemirror_mode": {
    "name": "ipython",
    "version": 3
   },
   "file_extension": ".py",
   "mimetype": "text/x-python",
   "name": "python",
   "nbconvert_exporter": "python",
   "pygments_lexer": "ipython3",
   "version": "3.11.2"
  }
 },
 "nbformat": 4,
 "nbformat_minor": 5
}
