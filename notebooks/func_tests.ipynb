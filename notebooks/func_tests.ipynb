{
 "cells": [
  {
   "cell_type": "code",
   "execution_count": 1,
   "id": "294ef31f",
   "metadata": {},
   "outputs": [],
   "source": [
    "import os\n",
    "import pandas as pd\n",
    "import numpy as np\n",
    "import openai\n",
    "import faiss\n",
    "from dotenv import load_dotenv\n",
    "load_dotenv()\n",
    "\n",
    "from sentence_transformers import SentenceTransformer"
   ]
  },
  {
   "cell_type": "code",
   "execution_count": 2,
   "id": "b126585e",
   "metadata": {},
   "outputs": [
    {
     "data": {
      "text/plain": [
       "'C:\\\\Users\\\\yaobv\\\\hanson_app\\\\notebooks'"
      ]
     },
     "execution_count": 2,
     "metadata": {},
     "output_type": "execute_result"
    }
   ],
   "source": [
    "os.getcwd()"
   ]
  },
  {
   "cell_type": "code",
   "execution_count": 3,
   "id": "e9be5d13",
   "metadata": {},
   "outputs": [],
   "source": [
    "openai.organization = os.environ.get('OPENAI_ORG')\n",
    "openai.api_key = os.environ.get('OPENAI_KEY')"
   ]
  },
  {
   "cell_type": "code",
   "execution_count": 5,
   "id": "63f86d78",
   "metadata": {},
   "outputs": [],
   "source": [
    "model = SentenceTransformer('sentence-transformers/multi-qa-mpnet-base-dot-v1')\n",
    "\n",
    "df = pd.read_csv('../data/hanson_df.csv')\n",
    "embeddings = np.load('../data/embedding_array.npy')\n",
    "\n",
    "posts = df['body'].values\n",
    "titles = df['title'].values\n",
    "links = df['url'].values\n",
    "\n",
    "embeddings_idx = faiss.IndexFlatL2(embeddings.shape[1])\n",
    "embeddings_idx.add(embeddings)"
   ]
  },
  {
   "cell_type": "code",
   "execution_count": 43,
   "id": "4c4e9741",
   "metadata": {},
   "outputs": [],
   "source": [
    "def get_hanson_articles(query=None, top_k=5):\n",
    "    \"\"\"    \n",
    "    a function to return the body of the top match and the blog title\n",
    "    of the top 5 entries (for now, testing)\n",
    "    \"\"\"\n",
    "    \n",
    "    query_embedding = model.encode(query)\n",
    "    \n",
    "    d, i =  embeddings_idx.search(np.array([query_embedding]), top_k)\n",
    "\n",
    "    post_bodies = [posts[x] for x in i[0]]\n",
    "    post_titles = [titles[x] for x in i[0]]\n",
    "    links_ = [links[x] for x in i[0]]\n",
    "    \n",
    "    return post_bodies[0] + post_bodies[1], links_[0]"
   ]
  },
  {
   "cell_type": "code",
   "execution_count": 67,
   "id": "9e2a0db1",
   "metadata": {},
   "outputs": [],
   "source": [
    "messages = [\n",
    "    {\"role\": \"system\", \"content\": \"You're analytical and kind. You want to help the user understand the economist Robin Hanson's worldview.\"},\n",
    "\n",
    "]"
   ]
  },
  {
   "cell_type": "code",
   "execution_count": 70,
   "id": "d3e221d3",
   "metadata": {},
   "outputs": [],
   "source": [
    "def hanson_chat_test(query_test=None):    \n",
    "    \n",
    "    posts, link = get_hanson_articles(query=query_test, top_k=2)\n",
    "    prompt = messages.copy()\n",
    "    \n",
    "    prompt.append({\"role\" : \"user\", \"content\" : f\"I would like you to consider the following before answering the question: '{posts}'. Note that if the foregoing doesn't seem relevant, please inform the user that Hanson doesnt address that on his blog. Stick to what Hanson would say. {query_test}\"})\n",
    "    \n",
    "    response = (\n",
    "        openai\n",
    "        .ChatCompletion\n",
    "        .create(\n",
    "            model=\"gpt-3.5-turbo\",\n",
    "            max_tokens=300,\n",
    "            messages=prompt)\n",
    "        )\n",
    "    print(response.usage.completion_tokens)\n",
    "\n",
    "    generated_text = response.choices[0].message.content\n",
    "    \n",
    "    messages.append({\"role\" : \"user\", \"content\" : f'{query_test}'})\n",
    "    messages.append({\"role\" : \"assistant\", \"content\" : generated_text})\n",
    "    \n",
    "    return generated_text, link"
   ]
  },
  {
   "cell_type": "code",
   "execution_count": 71,
   "id": "6847ca63",
   "metadata": {},
   "outputs": [
    {
     "name": "stdout",
     "output_type": "stream",
     "text": [
      "104\n"
     ]
    },
    {
     "data": {
      "text/plain": [
       "(\"Based on Robin Hanson's beliefs about the forager/farmer thesis, he would likely argue that the mating habits of contemporary humans are a reflection of our ancient forager ancestors. Thus, he would suggest that the characteristics that were most socially desirable in ancient times are still desirable now, such as physical attractiveness and social status. However, Hanson would also acknowledge that modern humans have evolved and may have different preferences and values, but he would argue that the forager way of life is still influential in shaping our mating behavior.\",\n",
       " 'https://www.overcomingbias.com/p/new-paleolithic-matinghtml')"
      ]
     },
     "execution_count": 71,
     "metadata": {},
     "output_type": "execute_result"
    }
   ],
   "source": [
    "hanson_chat_test(\"Would Hanson say the ancients were most socially desirable, or contemporary humans?\")"
   ]
  },
  {
   "cell_type": "code",
   "execution_count": 62,
   "id": "9d85b0b3",
   "metadata": {},
   "outputs": [
    {
     "data": {
      "text/plain": [
       "2122.5"
      ]
     },
     "execution_count": 62,
     "metadata": {},
     "output_type": "execute_result"
    }
   ],
   "source": [
    "sum([len(x['content']) for x in messages]) / 6"
   ]
  },
  {
   "cell_type": "code",
   "execution_count": 76,
   "id": "32e1668a",
   "metadata": {},
   "outputs": [
    {
     "name": "stdout",
     "output_type": "stream",
     "text": [
      "[{'role': 'system', 'content': \"You're analytical and kind. You want to help the user understand the economist Robin Hanson's worldview.\"}, {'role': 'assistant', 'content': \"Based on Robin Hanson's beliefs about the forager/farmer thesis, he would likely argue that the mating habits of contemporary humans are a reflection of our ancient forager ancestors. Thus, he would suggest that the characteristics that were most socially desirable in ancient times are still desirable now, such as physical attractiveness and social status. However, Hanson would also acknowledge that modern humans have evolved and may have different preferences and values, but he would argue that the forager way of life is still influential in shaping our mating behavior.\"}]\n"
     ]
    }
   ],
   "source": [
    "if len(messages) > 1:\n",
    "    new_messages = [messages[0]]\n",
    "    new_messages.append(messages[-1])\n",
    "    print(new_messages)"
   ]
  },
  {
   "cell_type": "code",
   "execution_count": null,
   "id": "15c54667",
   "metadata": {},
   "outputs": [],
   "source": []
  }
 ],
 "metadata": {
  "kernelspec": {
   "display_name": "Python 3 (ipykernel)",
   "language": "python",
   "name": "python3"
  },
  "language_info": {
   "codemirror_mode": {
    "name": "ipython",
    "version": 3
   },
   "file_extension": ".py",
   "mimetype": "text/x-python",
   "name": "python",
   "nbconvert_exporter": "python",
   "pygments_lexer": "ipython3",
   "version": "3.11.2"
  }
 },
 "nbformat": 4,
 "nbformat_minor": 5
}
